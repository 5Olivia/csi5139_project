version https://git-lfs.github.com/spec/v1
oid sha256:6f345570d231263a69ad3a02473becc2ef38b267e024427616f7b5cb320310fa
size 518640
